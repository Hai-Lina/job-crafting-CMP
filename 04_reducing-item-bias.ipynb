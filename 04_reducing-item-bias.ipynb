{
 "cells": [
  {
   "cell_type": "markdown",
   "id": "b01b8cd4-64ae-4f2f-8200-3f839b599fe8",
   "metadata": {},
   "source": [
    "## Job Crafting: Reducing Item Bias"
   ]
  },
  {
   "cell_type": "code",
   "execution_count": null,
   "id": "d9c8c0b6-330a-4020-aa2f-e46a596cddde",
   "metadata": {},
   "outputs": [],
   "source": [
    "from sentence_transformers import SentenceTransformer\n",
    "\n",
    "import numpy as np\n",
    "import pandas as pd\n",
    "import re"
   ]
  },
  {
   "cell_type": "code",
   "execution_count": null,
   "id": "7f8aaed4-328c-433f-ac50-92be5be2f53c",
   "metadata": {},
   "outputs": [],
   "source": [
    "DATA = 'data/'"
   ]
  },
  {
   "cell_type": "code",
   "execution_count": null,
   "id": "db6da806-092f-4369-9d4e-24a2f28faa16",
   "metadata": {},
   "outputs": [],
   "source": [
    "data = pd.read_csv(DATA + 'strategies_raw.csv', sep=';')"
   ]
  },
  {
   "cell_type": "code",
   "execution_count": null,
   "id": "d2f6091b-a4c1-4f2b-b7fd-d8043a106c8b",
   "metadata": {},
   "outputs": [],
   "source": [
    "model = SentenceTransformer('distiluse-base-multilingual-cased-v2')"
   ]
  },
  {
   "cell_type": "code",
   "execution_count": null,
   "id": "8340df0a-2c30-4e2a-8a5e-02f244074288",
   "metadata": {},
   "outputs": [],
   "source": [
    "masks =  {1: ['tiempo', 'trabaj*', 'situacion*'], \n",
    "          2: ['cambi*', 'puesto', 'nuev*', 'empresa', 'rend*', 'compañer*'],\n",
    "          3: ['efica*', 'productiv*', 'trabaj*'],\n",
    "          4: ['presión', 'estrés']}"
   ]
  },
  {
   "cell_type": "code",
   "execution_count": null,
   "id": "ea3153b8-01a6-4412-a41d-b7980ff30c97",
   "metadata": {},
   "outputs": [],
   "source": [
    "data_masked = pd.DataFrame(columns=['strategy text', 'item'])"
   ]
  },
  {
   "cell_type": "code",
   "execution_count": null,
   "id": "e26c7833-6caa-40c6-96b4-a4e52449456c",
   "metadata": {},
   "outputs": [],
   "source": [
    "for i in range(len(data)):\n",
    "    strategy_new = data.iloc[i]['strategy text']\n",
    "    for mask in masks[data.iloc[i]['item']]:\n",
    "        strategy_new = re.sub(mask, '[MASK]', strategy_new)\n",
    "    data_masked.loc[i] = [strategy_new, data.iloc[i]['item']]"
   ]
  },
  {
   "cell_type": "code",
   "execution_count": null,
   "id": "2a0e88fa-3b4a-43f7-9423-4a801472719a",
   "metadata": {},
   "outputs": [],
   "source": [
    "strategy_embeddings_masked = model.encode(data_masked['strategy text'].tolist(), show_progress_bar=True)"
   ]
  },
  {
   "cell_type": "code",
   "execution_count": null,
   "id": "0493e67e-c442-4038-b7c5-b2a88af32f27",
   "metadata": {},
   "outputs": [],
   "source": [
    "# np.save(DATA + 'strategy_embeddings_masked', strategy_embeddings_masked)"
   ]
  },
  {
   "cell_type": "code",
   "execution_count": null,
   "id": "1e210d41-cd94-45a6-8520-06bee24d1d43",
   "metadata": {},
   "outputs": [],
   "source": []
  }
 ],
 "metadata": {
  "kernelspec": {
   "display_name": "Python 3 (ipykernel)",
   "language": "python",
   "name": "python3"
  },
  "language_info": {
   "codemirror_mode": {
    "name": "ipython",
    "version": 3
   },
   "file_extension": ".py",
   "mimetype": "text/x-python",
   "name": "python",
   "nbconvert_exporter": "python",
   "pygments_lexer": "ipython3",
   "version": "3.9.12"
  }
 },
 "nbformat": 4,
 "nbformat_minor": 5
}
