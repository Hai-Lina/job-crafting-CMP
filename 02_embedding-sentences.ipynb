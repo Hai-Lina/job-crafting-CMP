{
 "cells": [
  {
   "cell_type": "markdown",
   "id": "5db0c360-3124-47db-828e-b1f9e52b3fb6",
   "metadata": {},
   "source": [
    "## Job Crafting: Embedding Sentences"
   ]
  },
  {
   "cell_type": "code",
   "execution_count": null,
   "id": "0125b668-67ab-4463-b0d8-658f4a14353b",
   "metadata": {},
   "outputs": [],
   "source": [
    "from sentence_transformers import SentenceTransformer\n",
    "\n",
    "import numpy as np\n",
    "import pandas as pd"
   ]
  },
  {
   "cell_type": "code",
   "execution_count": null,
   "id": "efc6344f-88e7-407d-a40b-63b45b4f36bf",
   "metadata": {},
   "outputs": [],
   "source": [
    "DATA = 'data/'"
   ]
  },
  {
   "cell_type": "code",
   "execution_count": null,
   "id": "55ebea2d-6ce6-444e-b980-df5c4ec46b70",
   "metadata": {},
   "outputs": [],
   "source": [
    "# load sentence transformer model\n",
    "# https://huggingface.co/sentence-transformers/distiluse-base-multilingual-cased-v2\n",
    "model = SentenceTransformer('distiluse-base-multilingual-cased-v2')"
   ]
  },
  {
   "cell_type": "code",
   "execution_count": null,
   "id": "7545b064-276e-482f-aec4-d4a452ad226a",
   "metadata": {},
   "outputs": [],
   "source": [
    "# load raw strategy sentences\n",
    "data = pd.read_csv(DATA + 'strategies_raw.csv', sep=';')\n",
    "strategies = data['strategy text'].tolist()"
   ]
  },
  {
   "cell_type": "code",
   "execution_count": null,
   "id": "4b15f81d-d021-4fa1-aba8-a68a6a9728bb",
   "metadata": {},
   "outputs": [],
   "source": [
    "# embed strategy sentences\n",
    "strategy_embeddings = model.encode(strategies, show_progress_bar=True)"
   ]
  },
  {
   "cell_type": "code",
   "execution_count": null,
   "id": "975d790d-783f-4775-9842-fc243501a9a0",
   "metadata": {},
   "outputs": [],
   "source": [
    "# save strategy embeddings to file\n",
    "# np.save(DATA + 'strategy_embeddings', strategy_embeddings)  # use previous embeddings for full replicability"
   ]
  },
  {
   "cell_type": "code",
   "execution_count": null,
   "id": "9fe652f0-9577-4da6-8e74-7de3be766bf8",
   "metadata": {},
   "outputs": [],
   "source": [
    "# read vignette texts from file\n",
    "with open(DATA + 'vignettes.txt') as f:\n",
    "    vignettes = f.read()\n",
    "    \n",
    "vignettes = vignettes.split('; ')"
   ]
  },
  {
   "cell_type": "code",
   "execution_count": null,
   "id": "7de6e358-66e6-45d7-8c72-a000f511812d",
   "metadata": {},
   "outputs": [],
   "source": [
    "# embed vignettes\n",
    "vignette_embeddings = model.encode(vignettes)"
   ]
  },
  {
   "cell_type": "code",
   "execution_count": null,
   "id": "78701518-c310-408f-8c54-c7b089279796",
   "metadata": {},
   "outputs": [],
   "source": [
    "# save vignette embeddings to file\n",
    "# np.save(DATA + 'vignette_embeddings', vignette_embeddings)  # use previous embeddings for full replicability"
   ]
  },
  {
   "cell_type": "code",
   "execution_count": null,
   "id": "878e7723-6174-41eb-b74b-ed92b0789a94",
   "metadata": {},
   "outputs": [],
   "source": []
  }
 ],
 "metadata": {
  "kernelspec": {
   "display_name": "Python 3 (ipykernel)",
   "language": "python",
   "name": "python3"
  },
  "language_info": {
   "codemirror_mode": {
    "name": "ipython",
    "version": 3
   },
   "file_extension": ".py",
   "mimetype": "text/x-python",
   "name": "python",
   "nbconvert_exporter": "python",
   "pygments_lexer": "ipython3",
   "version": "3.9.12"
  }
 },
 "nbformat": 4,
 "nbformat_minor": 5
}
