{
 "cells": [
  {
   "cell_type": "markdown",
   "metadata": {},
   "source": [
    "## Job Crafting: Reducing Dimensionality & Clustering"
   ]
  },
  {
   "cell_type": "code",
   "execution_count": null,
   "metadata": {},
   "outputs": [],
   "source": [
    "# !!! RESTART KERNEL WHEN SETTING NEW SEED - else UMAP results might be influenced by previous seed !!!\n",
    "RANDOM_STATE = 772"
   ]
  },
  {
   "cell_type": "code",
   "execution_count": null,
   "metadata": {},
   "outputs": [],
   "source": [
    "EMBEDDINGS = 'data/'"
   ]
  },
  {
   "cell_type": "code",
   "execution_count": null,
   "metadata": {
    "id": "KFBSj2GMS9R-"
   },
   "outputs": [],
   "source": [
    "# use following parameters in evaluation loop if parameter not varying\n",
    "MIN_DIST = 0.01  # UMAP, default: 0.1\n",
    "MIN_CLUSTER_SIZE = 10  # HDBSCAN, default: 15\n",
    "\n",
    "# vary over the following parameters in evaluation loop\n",
    "K_UMAP = [15, 30, 40, 45, 50]\n",
    "N_UMAP = [10, 30, 50]\n",
    "K_HDBSCAN = [10, 15, 20, 25, 30, 35, 40, 45, 50]"
   ]
  },
  {
   "cell_type": "code",
   "execution_count": null,
   "metadata": {},
   "outputs": [],
   "source": [
    "import warnings\n",
    "warnings.filterwarnings(\"ignore\")"
   ]
  },
  {
   "cell_type": "code",
   "execution_count": null,
   "metadata": {
    "id": "NbZM_l6uOQ95"
   },
   "outputs": [],
   "source": [
    "import pandas as pd\n",
    "import os\n",
    "import numpy as np\n",
    "\n",
    "import umap\n",
    "import hdbscan\n",
    "\n",
    "import plotly.graph_objects as go\n",
    "from plotly.subplots import make_subplots"
   ]
  },
  {
   "cell_type": "code",
   "execution_count": null,
   "metadata": {},
   "outputs": [],
   "source": [
    "# create folders to save evaluation files & plots\n",
    "if not os.path.exists(f'evaluation'):\n",
    "    os.makedirs(f'evaluation')\n",
    "\n",
    "if not os.path.exists(f'evaluation/plots'):\n",
    "    os.makedirs(f'evaluation/plots')"
   ]
  },
  {
   "cell_type": "markdown",
   "metadata": {
    "id": "wYaupGlCOodL"
   },
   "source": [
    "### Load reappraisal texts & embeddings"
   ]
  },
  {
   "cell_type": "code",
   "execution_count": null,
   "metadata": {
    "id": "RUGNfhJ6NvCl"
   },
   "outputs": [],
   "source": [
    "# load raw reappraisal sentences\n",
    "data = pd.read_csv(EMBEDDINGS + 'strategies_raw.csv', sep=';')\n",
    "strategies = data['strategy text'].tolist()"
   ]
  },
  {
   "cell_type": "code",
   "execution_count": null,
   "metadata": {
    "id": "MoZZgfwVnzMu"
   },
   "outputs": [],
   "source": [
    "# load reappraisal embeddings and convert to numpy array\n",
    "strategy_embeddings = np.load(EMBEDDINGS + 'strategy_embeddings_masked.npy')"
   ]
  },
  {
   "cell_type": "markdown",
   "metadata": {
    "id": "ADePNI8ES3w9"
   },
   "source": [
    "### Evaluate hyperparameters and save to file"
   ]
  },
  {
   "cell_type": "code",
   "execution_count": null,
   "metadata": {
    "id": "-bYT1_NNN57g"
   },
   "outputs": [],
   "source": [
    "### DEFINE EVALUATION FUNCTION ###\n",
    "\n",
    "def evaluation_loop(k_umap=K_UMAP, n_umap=N_UMAP, k_hdbscan=K_HDBSCAN):\n",
    "    \"\"\"evaluates UMAP in combination with HDBSCAN with different parameters along three axes: \"\"\"\n",
    "    # k_umap: iterable, list of values for UMAP nearest neighbors\n",
    "    # n_umap: iterable, list of values for UMAP dimensions\n",
    "    # k_hdbscan: iterable, list of values for HDBSCAN nearest neighbors\n",
    "\n",
    "    print(f\"STARTING EVALUATION LOOP FOR SEED {RANDOM_STATE}\")\n",
    "    eval_dict = {}\n",
    "\n",
    "    for K in k_umap:\n",
    "        K_eval_dict = {}\n",
    "        \n",
    "        for N in n_umap:\n",
    "            N_eval_dict = {}\n",
    "            no_clusters = []\n",
    "            \n",
    "            print(f\"- Evaluating UMAP with {K} neighbors and {N} dimensions\")\n",
    "            mapper = umap.UMAP(n_neighbors=K,\n",
    "                               min_dist=MIN_DIST,\n",
    "                               n_components=N,\n",
    "                               metric='cosine',  # default: 'euclidean'\n",
    "                               random_state=RANDOM_STATE).fit(strategy_embeddings)\n",
    "\n",
    "            umap_embeddings = mapper.transform(strategy_embeddings)\n",
    "\n",
    "            print(f\"- Running HDBSCAN with {k_hdbscan} neighbors\")\n",
    "            for H in k_hdbscan:\n",
    "                H_eval_dict = {}\n",
    "    \n",
    "                clusterer = hdbscan.HDBSCAN(min_samples=H,\n",
    "                                            min_cluster_size=MIN_CLUSTER_SIZE,\n",
    "                                            metric='euclidean',  # default: 'euclidean'\n",
    "                                            gen_min_span_tree=True)\n",
    "\n",
    "                clusterer.fit(umap_embeddings)\n",
    "    \n",
    "                H_eval_dict['number of clusters'] = clusterer.labels_.max() + 1\n",
    "                H_eval_dict['noise'] = list(clusterer.labels_).count(-1)\n",
    "    \n",
    "                N_eval_dict[H] = H_eval_dict\n",
    "            \n",
    "            K_eval_dict[N] = N_eval_dict\n",
    "\n",
    "        eval_dict[K] = K_eval_dict\n",
    "    \n",
    "    return eval_dict"
   ]
  },
  {
   "cell_type": "code",
   "execution_count": null,
   "metadata": {},
   "outputs": [],
   "source": [
    "# run evaluation loop for current seed\n",
    "results_seed = evaluation_loop()"
   ]
  },
  {
   "cell_type": "code",
   "execution_count": null,
   "metadata": {},
   "outputs": [],
   "source": [
    "# save results for current seed to files\n",
    "with open('evaluation/eval-results-no-clusters.txt', 'a') as f:  # number of clusters\n",
    "    for k in K_UMAP:\n",
    "        for n in N_UMAP:\n",
    "            f.write(f\"s{RANDOM_STATE}_k{k}_n{n} = {[(h, results_seed[k][n][h]['number of clusters']) for h in K_HDBSCAN]}\\n\")\n",
    "        f.write('\\n')\n",
    "\n",
    "with open('evaluation/eval-results-noise.txt', 'a') as f:  # noise\n",
    "    for k in K_UMAP:\n",
    "        for n in N_UMAP:\n",
    "            f.write(f\"s{RANDOM_STATE}_k{k}_n{n} = {[(h, results_seed[k][n][h]['noise']) for h in K_HDBSCAN]}\\n\")\n",
    "        f.write('\\n')"
   ]
  },
  {
   "cell_type": "markdown",
   "metadata": {},
   "source": [
    "### Plot results"
   ]
  },
  {
   "cell_type": "code",
   "execution_count": null,
   "metadata": {},
   "outputs": [],
   "source": [
    "### DEFINE PLOTTING FUNCTION ###\n",
    "\n",
    "def plot_values(k_umap=K_UMAP, n_umap=N_UMAP, k_hdbscan=K_HDBSCAN, parameter='number of clusters',\n",
    "                width=1100, height=1000):\n",
    "    \"\"\" plots parameters number of clusters/noise per evaluation run \"\"\"\n",
    "    # k_umap: iterable, list of values for UMAP nearest neighbors\n",
    "    # n_umap: iterable, list of values for UMAP dimensions\n",
    "    # k_hdbscan: iterable, list of values for HDBSCAN nearest neighbors\n",
    "    # parameter: string, 'number of clusters' or 'noise'\n",
    "    # width: integer, plot width\n",
    "    # height: integer, plot height\n",
    "    \n",
    "    subplot_titles = [f\"n_UMAP = {n_umap[a]}\" for a in range(len(n_umap))] + []*len(k_umap)*(len(n_umap)-1)\n",
    "\n",
    "    fig = make_subplots(rows=len(k_umap), cols=len(n_umap), subplot_titles=subplot_titles, shared_yaxes=True, vertical_spacing=0.05)\n",
    "\n",
    "    for i in range(1, len(k_umap)+1):\n",
    "        for j in range(1, len(n_umap)+1):\n",
    "            fig.add_trace(go.Scatter(x=k_hdbscan,\n",
    "                                     y=[results_seed[k_umap[i-1]][n_umap[j-1]][h][parameter] for h in k_hdbscan],\n",
    "                                     mode='lines+markers'),\n",
    "                          row=i, col=j)\n",
    "\n",
    "    for x in range(1, len(n_umap)+1):\n",
    "        fig['layout'][f\"xaxis{(len(k_umap)-1)*len(n_umap)+x}\"]['title']= 'k_hdbscan'\n",
    "\n",
    "    fig['layout']['yaxis']['title']= f\"k_umap = {k_umap[0]}\"\n",
    "\n",
    "    for y, l in zip(k_umap[1:], range(1, len(k_umap))):\n",
    "        fig['layout'][f\"yaxis{1+l*len(n_umap)}\"]['title']= f\"k_umap {y}\"\n",
    "\n",
    "    fig.update_layout(title_text = f\"N{parameter[1:]} // Seed = {RANDOM_STATE}\",\n",
    "                      title_x = 0.5,\n",
    "                      width = width,\n",
    "                      height = height,\n",
    "                      font_size = 13,\n",
    "                      title_font_size = 20,\n",
    "                      showlegend = False)\n",
    "\n",
    "    fig.update_annotations(font_size = 15)\n",
    "    \n",
    "    return fig"
   ]
  },
  {
   "cell_type": "code",
   "execution_count": null,
   "metadata": {},
   "outputs": [],
   "source": [
    "# plot results for number of clusters and current seed\n",
    "fig = plot_values(parameter='number of clusters')\n",
    "fig.show()\n",
    "# save to file\n",
    "fig.write_image(f'evaluation/plots/no-clusters-seed={RANDOM_STATE}.svg')"
   ]
  },
  {
   "cell_type": "code",
   "execution_count": null,
   "metadata": {},
   "outputs": [],
   "source": [
    "# plots results for noise and current seed\n",
    "fig = plot_values(parameter='noise')\n",
    "fig.show()\n",
    "# save to file\n",
    "fig.write_image(f'evaluation/plots/noise-seed={RANDOM_STATE}.svg')"
   ]
  },
  {
   "cell_type": "code",
   "execution_count": null,
   "metadata": {},
   "outputs": [],
   "source": []
  }
 ],
 "metadata": {
  "colab": {
   "collapsed_sections": [],
   "name": "ClustER_UMAP_feat_HDBSCAN.ipynb",
   "provenance": []
  },
  "kernelspec": {
   "display_name": "Python 3 (ipykernel)",
   "language": "python",
   "name": "python3"
  },
  "language_info": {
   "codemirror_mode": {
    "name": "ipython",
    "version": 3
   },
   "file_extension": ".py",
   "mimetype": "text/x-python",
   "name": "python",
   "nbconvert_exporter": "python",
   "pygments_lexer": "ipython3",
   "version": "3.9.12"
  },
  "widgets": {
   "application/vnd.jupyter.widget-state+json": {
    "13ad6129c3af454bb1db2dcdb19e3c3f": {
     "model_module": "@jupyter-widgets/controls",
     "model_module_version": "1.5.0",
     "model_name": "FloatProgressModel",
     "state": {
      "_dom_classes": [],
      "_model_module": "@jupyter-widgets/controls",
      "_model_module_version": "1.5.0",
      "_model_name": "FloatProgressModel",
      "_view_count": null,
      "_view_module": "@jupyter-widgets/controls",
      "_view_module_version": "1.5.0",
      "_view_name": "ProgressView",
      "bar_style": "success",
      "description": "",
      "description_tooltip": null,
      "layout": "IPY_MODEL_df294223fb1e4e1f9c96ac1ba449076a",
      "max": 189,
      "min": 0,
      "orientation": "horizontal",
      "style": "IPY_MODEL_f2dc7f8f230f4e64b076716e5f327a4d",
      "value": 189
     }
    },
    "4940febc96024fe1a7b9bcc438982bb0": {
     "model_module": "@jupyter-widgets/controls",
     "model_module_version": "1.5.0",
     "model_name": "HTMLModel",
     "state": {
      "_dom_classes": [],
      "_model_module": "@jupyter-widgets/controls",
      "_model_module_version": "1.5.0",
      "_model_name": "HTMLModel",
      "_view_count": null,
      "_view_module": "@jupyter-widgets/controls",
      "_view_module_version": "1.5.0",
      "_view_name": "HTMLView",
      "description": "",
      "description_tooltip": null,
      "layout": "IPY_MODEL_8111d9cbe45e457dbbb0a1885b8d618c",
      "placeholder": "​",
      "style": "IPY_MODEL_806110fc66e242e3b8017a23df718843",
      "value": " 189/189 [00:16&lt;00:00, 22.90it/s]"
     }
    },
    "715335c00ad9443bbd97920f231d85d6": {
     "model_module": "@jupyter-widgets/controls",
     "model_module_version": "1.5.0",
     "model_name": "HTMLModel",
     "state": {
      "_dom_classes": [],
      "_model_module": "@jupyter-widgets/controls",
      "_model_module_version": "1.5.0",
      "_model_name": "HTMLModel",
      "_view_count": null,
      "_view_module": "@jupyter-widgets/controls",
      "_view_module_version": "1.5.0",
      "_view_name": "HTMLView",
      "description": "",
      "description_tooltip": null,
      "layout": "IPY_MODEL_d1b31f700fda47c790ec4d8b076669b0",
      "placeholder": "​",
      "style": "IPY_MODEL_7ca460c08d8c4ffe906d84bafe7530bd",
      "value": "Batches: 100%"
     }
    },
    "7ca460c08d8c4ffe906d84bafe7530bd": {
     "model_module": "@jupyter-widgets/controls",
     "model_module_version": "1.5.0",
     "model_name": "DescriptionStyleModel",
     "state": {
      "_model_module": "@jupyter-widgets/controls",
      "_model_module_version": "1.5.0",
      "_model_name": "DescriptionStyleModel",
      "_view_count": null,
      "_view_module": "@jupyter-widgets/base",
      "_view_module_version": "1.2.0",
      "_view_name": "StyleView",
      "description_width": ""
     }
    },
    "806110fc66e242e3b8017a23df718843": {
     "model_module": "@jupyter-widgets/controls",
     "model_module_version": "1.5.0",
     "model_name": "DescriptionStyleModel",
     "state": {
      "_model_module": "@jupyter-widgets/controls",
      "_model_module_version": "1.5.0",
      "_model_name": "DescriptionStyleModel",
      "_view_count": null,
      "_view_module": "@jupyter-widgets/base",
      "_view_module_version": "1.2.0",
      "_view_name": "StyleView",
      "description_width": ""
     }
    },
    "8111d9cbe45e457dbbb0a1885b8d618c": {
     "model_module": "@jupyter-widgets/base",
     "model_module_version": "1.2.0",
     "model_name": "LayoutModel",
     "state": {
      "_model_module": "@jupyter-widgets/base",
      "_model_module_version": "1.2.0",
      "_model_name": "LayoutModel",
      "_view_count": null,
      "_view_module": "@jupyter-widgets/base",
      "_view_module_version": "1.2.0",
      "_view_name": "LayoutView",
      "align_content": null,
      "align_items": null,
      "align_self": null,
      "border": null,
      "bottom": null,
      "display": null,
      "flex": null,
      "flex_flow": null,
      "grid_area": null,
      "grid_auto_columns": null,
      "grid_auto_flow": null,
      "grid_auto_rows": null,
      "grid_column": null,
      "grid_gap": null,
      "grid_row": null,
      "grid_template_areas": null,
      "grid_template_columns": null,
      "grid_template_rows": null,
      "height": null,
      "justify_content": null,
      "justify_items": null,
      "left": null,
      "margin": null,
      "max_height": null,
      "max_width": null,
      "min_height": null,
      "min_width": null,
      "object_fit": null,
      "object_position": null,
      "order": null,
      "overflow": null,
      "overflow_x": null,
      "overflow_y": null,
      "padding": null,
      "right": null,
      "top": null,
      "visibility": null,
      "width": null
     }
    },
    "d1b31f700fda47c790ec4d8b076669b0": {
     "model_module": "@jupyter-widgets/base",
     "model_module_version": "1.2.0",
     "model_name": "LayoutModel",
     "state": {
      "_model_module": "@jupyter-widgets/base",
      "_model_module_version": "1.2.0",
      "_model_name": "LayoutModel",
      "_view_count": null,
      "_view_module": "@jupyter-widgets/base",
      "_view_module_version": "1.2.0",
      "_view_name": "LayoutView",
      "align_content": null,
      "align_items": null,
      "align_self": null,
      "border": null,
      "bottom": null,
      "display": null,
      "flex": null,
      "flex_flow": null,
      "grid_area": null,
      "grid_auto_columns": null,
      "grid_auto_flow": null,
      "grid_auto_rows": null,
      "grid_column": null,
      "grid_gap": null,
      "grid_row": null,
      "grid_template_areas": null,
      "grid_template_columns": null,
      "grid_template_rows": null,
      "height": null,
      "justify_content": null,
      "justify_items": null,
      "left": null,
      "margin": null,
      "max_height": null,
      "max_width": null,
      "min_height": null,
      "min_width": null,
      "object_fit": null,
      "object_position": null,
      "order": null,
      "overflow": null,
      "overflow_x": null,
      "overflow_y": null,
      "padding": null,
      "right": null,
      "top": null,
      "visibility": null,
      "width": null
     }
    },
    "df294223fb1e4e1f9c96ac1ba449076a": {
     "model_module": "@jupyter-widgets/base",
     "model_module_version": "1.2.0",
     "model_name": "LayoutModel",
     "state": {
      "_model_module": "@jupyter-widgets/base",
      "_model_module_version": "1.2.0",
      "_model_name": "LayoutModel",
      "_view_count": null,
      "_view_module": "@jupyter-widgets/base",
      "_view_module_version": "1.2.0",
      "_view_name": "LayoutView",
      "align_content": null,
      "align_items": null,
      "align_self": null,
      "border": null,
      "bottom": null,
      "display": null,
      "flex": null,
      "flex_flow": null,
      "grid_area": null,
      "grid_auto_columns": null,
      "grid_auto_flow": null,
      "grid_auto_rows": null,
      "grid_column": null,
      "grid_gap": null,
      "grid_row": null,
      "grid_template_areas": null,
      "grid_template_columns": null,
      "grid_template_rows": null,
      "height": null,
      "justify_content": null,
      "justify_items": null,
      "left": null,
      "margin": null,
      "max_height": null,
      "max_width": null,
      "min_height": null,
      "min_width": null,
      "object_fit": null,
      "object_position": null,
      "order": null,
      "overflow": null,
      "overflow_x": null,
      "overflow_y": null,
      "padding": null,
      "right": null,
      "top": null,
      "visibility": null,
      "width": null
     }
    },
    "f2dc7f8f230f4e64b076716e5f327a4d": {
     "model_module": "@jupyter-widgets/controls",
     "model_module_version": "1.5.0",
     "model_name": "ProgressStyleModel",
     "state": {
      "_model_module": "@jupyter-widgets/controls",
      "_model_module_version": "1.5.0",
      "_model_name": "ProgressStyleModel",
      "_view_count": null,
      "_view_module": "@jupyter-widgets/base",
      "_view_module_version": "1.2.0",
      "_view_name": "StyleView",
      "bar_color": null,
      "description_width": ""
     }
    },
    "f4c1af507a3e4879a7503b9c5fb97abf": {
     "model_module": "@jupyter-widgets/base",
     "model_module_version": "1.2.0",
     "model_name": "LayoutModel",
     "state": {
      "_model_module": "@jupyter-widgets/base",
      "_model_module_version": "1.2.0",
      "_model_name": "LayoutModel",
      "_view_count": null,
      "_view_module": "@jupyter-widgets/base",
      "_view_module_version": "1.2.0",
      "_view_name": "LayoutView",
      "align_content": null,
      "align_items": null,
      "align_self": null,
      "border": null,
      "bottom": null,
      "display": null,
      "flex": null,
      "flex_flow": null,
      "grid_area": null,
      "grid_auto_columns": null,
      "grid_auto_flow": null,
      "grid_auto_rows": null,
      "grid_column": null,
      "grid_gap": null,
      "grid_row": null,
      "grid_template_areas": null,
      "grid_template_columns": null,
      "grid_template_rows": null,
      "height": null,
      "justify_content": null,
      "justify_items": null,
      "left": null,
      "margin": null,
      "max_height": null,
      "max_width": null,
      "min_height": null,
      "min_width": null,
      "object_fit": null,
      "object_position": null,
      "order": null,
      "overflow": null,
      "overflow_x": null,
      "overflow_y": null,
      "padding": null,
      "right": null,
      "top": null,
      "visibility": null,
      "width": null
     }
    },
    "f4e8f4ac221a477caece692e3bba87d4": {
     "model_module": "@jupyter-widgets/controls",
     "model_module_version": "1.5.0",
     "model_name": "HBoxModel",
     "state": {
      "_dom_classes": [],
      "_model_module": "@jupyter-widgets/controls",
      "_model_module_version": "1.5.0",
      "_model_name": "HBoxModel",
      "_view_count": null,
      "_view_module": "@jupyter-widgets/controls",
      "_view_module_version": "1.5.0",
      "_view_name": "HBoxView",
      "box_style": "",
      "children": [
       "IPY_MODEL_715335c00ad9443bbd97920f231d85d6",
       "IPY_MODEL_13ad6129c3af454bb1db2dcdb19e3c3f",
       "IPY_MODEL_4940febc96024fe1a7b9bcc438982bb0"
      ],
      "layout": "IPY_MODEL_f4c1af507a3e4879a7503b9c5fb97abf"
     }
    }
   }
  }
 },
 "nbformat": 4,
 "nbformat_minor": 4
}
