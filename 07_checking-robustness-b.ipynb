{
 "cells": [
  {
   "cell_type": "markdown",
   "id": "6ee0a589",
   "metadata": {},
   "source": [
    "## Job Crafting: Evaluating Robustness Check"
   ]
  },
  {
   "cell_type": "code",
   "execution_count": null,
   "id": "7a681472",
   "metadata": {},
   "outputs": [],
   "source": [
    "import numpy as np\n",
    "import pandas as pd\n",
    "\n",
    "import matplotlib.pyplot as plt\n",
    "\n",
    "from scipy.stats import spearmanr\n",
    "import random"
   ]
  },
  {
   "cell_type": "code",
   "execution_count": null,
   "id": "cfdf6f01",
   "metadata": {},
   "outputs": [],
   "source": [
    "# import results saved from 07_checking-robustness-a.py\n",
    "PATH = f'robustness_check/'\n",
    "\n",
    "random_seeds = np.load(PATH + f'data/random_seeds.npy')\n",
    "labels = np.load(PATH + f'data/labels.npy')\n",
    "no_clusters = np.load(PATH + f'data/no_clusters.npy')\n",
    "rand_indices = np.load(PATH + f'data/ARI.npy')"
   ]
  },
  {
   "cell_type": "markdown",
   "id": "6071dadc",
   "metadata": {},
   "source": [
    "### Examine: Number of clusters"
   ]
  },
  {
   "cell_type": "code",
   "execution_count": null,
   "id": "1c95daea-bd15-4d83-b4f5-09c038743a66",
   "metadata": {},
   "outputs": [],
   "source": [
    "# plot frequency of number of clusters over different UMAP runs\n",
    "fig, ax = plt.subplots(1, 1, figsize=(15, 5))\n",
    "\n",
    "ax.set_facecolor('ghostwhite')\n",
    "ax.grid(axis='y', color='lightgrey')\n",
    "ax.set_axisbelow(True)\n",
    "ax.set_xlabel('Number of clusters', fontsize=14)\n",
    "ax.set_ylabel('Frequency', fontsize=14)\n",
    "\n",
    "for pos in ('top', 'right', 'bottom', 'left'):\n",
    "    ax.spines[pos].set_visible(False)\n",
    "\n",
    "ax.hist(no_clusters, bins=np.arange(-0.5, 51, 1), rwidth=0.9, color='cornflowerblue')\n",
    "\n",
    "fig.savefig(PATH + 'no-clusters.svg')"
   ]
  },
  {
   "cell_type": "code",
   "execution_count": null,
   "id": "324d564a-c037-4c32-b173-b43f6a60d61c",
   "metadata": {},
   "outputs": [],
   "source": [
    "# We define trivial solutions as solutions outside the mass of the normal distribution,\n",
    "# that is with number of clusters below 27.\n",
    "\n",
    "# create new variables with trivial solutions deleted\n",
    "random_seeds_trivial = np.delete(random_seeds, np.where(no_clusters < 27)[0])\n",
    "no_clusters_trivial = np.delete(no_clusters, np.where(no_clusters < 27)[0])\n",
    "rand_trivial = np.delete(rand_indices, np.where(no_clusters < 27)[0], 0)\n",
    "rand_trivial = np.delete(rand_trivial, np.where(no_clusters < 27)[0], 1)"
   ]
  },
  {
   "cell_type": "code",
   "execution_count": null,
   "id": "175ec566",
   "metadata": {},
   "outputs": [],
   "source": [
    "# print parameters of cluster number distribution\n",
    "print(f'Mean of cluster distribution without trivial solutions: \\\n",
    "{round(np.mean(no_clusters_trivial), 4)}')\n",
    "\n",
    "print(f'SD of cluster distribution without trivial solutions: \\\n",
    "{round(np.std(no_clusters_trivial), 4)}\\n')\n",
    "\n",
    "print('Prevalence of numbers of found clusters:')\n",
    "pd.Series(no_clusters).value_counts()"
   ]
  },
  {
   "cell_type": "markdown",
   "id": "235e1449",
   "metadata": {},
   "source": [
    "### Examine: Rand Indices"
   ]
  },
  {
   "cell_type": "code",
   "execution_count": null,
   "id": "822c75ef",
   "metadata": {},
   "outputs": [],
   "source": [
    "# get min and max of rand indices for pairs of clusterings *with* trivial solutions\n",
    "print(f'Min and max of rand indices with trivial solutions:')\n",
    "print(f'Min: {round(np.min([x for x in rand_indices.flatten() if x != 1]), 4)}')\n",
    "print(f'Max: {round(np.max([x for x in rand_indices.flatten() if x != 1]), 4)}')"
   ]
  },
  {
   "cell_type": "code",
   "execution_count": null,
   "id": "ae8d922c-5628-4825-9b9e-8f47ff19d6c9",
   "metadata": {},
   "outputs": [],
   "source": [
    "# get min and max of rand indices for pairs of clusterings *without* trivial solutions\n",
    "print(f'Min and max of rand indices without trivial solutions:')\n",
    "print(f'Min: {round(np.min([x for x in rand_trivial.flatten() if x != 1]), 4)}')\n",
    "print(f'Max: {round(np.max([x for x in rand_trivial.flatten() if x != 1]), 4)}')"
   ]
  },
  {
   "cell_type": "code",
   "execution_count": null,
   "id": "6cd65621-58b5-46ae-8fb1-86787cb94f38",
   "metadata": {},
   "outputs": [],
   "source": [
    "# get distribution of average rand indices per random seed *without* trivial solutions\n",
    "avg_rand = [(sum(rand_trivial[i])-1)/(len(rand_trivial)-1) for i in range(len(rand_trivial))]\n",
    "\n",
    "fig, ax = plt.subplots(figsize=(12, 6))\n",
    "plt.hist(avg_rand, bins=np.arange(0.5, 0.90, 0.01), color='cornflowerblue')\n",
    "\n",
    "for pos in ('top', 'right', 'bottom', 'left'):\n",
    "    ax.spines[pos].set_visible(False)\n",
    "\n",
    "ax.set_facecolor('ghostwhite')\n",
    "ax.grid(axis='y', color='lightgrey', linewidth=1)\n",
    "ax.set_axisbelow(True)\n",
    "ax.set_xlabel('Average Adjusted Rand Index', fontsize=14)\n",
    "ax.set_ylabel('Number of solutions', fontsize=14)\n",
    "\n",
    "plt.savefig(PATH + 'avg_ARI.svg')"
   ]
  },
  {
   "cell_type": "code",
   "execution_count": null,
   "id": "ebf5eb7c",
   "metadata": {},
   "outputs": [],
   "source": [
    "# calculate correlation between rand index and difference in number of clusters per cluster pairing\n",
    "\n",
    "# calculate cluster differences between cluster pairings in 5000x5000 array\n",
    "cluster_diff = []\n",
    "for i in range(len(no_clusters)):\n",
    "    cluster_diff.append(no_clusters[i] - no_clusters)\n",
    "cluster_diff = np.array(cluster_diff)\n",
    "\n",
    "# keep lower triangle of cluster differences array only, flatten, make values absolute\n",
    "cluster_diff_tril = []\n",
    "for i in range(1, len(cluster_diff)):\n",
    "    cluster_diff_tril.append(cluster_diff[i, :i])\n",
    "cluster_diff_flat = [abs(x) for xs in cluster_diff_tril for x in xs]\n",
    "\n",
    "# keep lower triangle of rand indices array only, flatten\n",
    "rand_indices_tril = []\n",
    "for i in range(1, len(rand_indices)):\n",
    "    rand_indices_tril.append(rand_indices[i, :i])\n",
    "rand_indices_flat = [x for xs in rand_indices_tril for x in xs]\n",
    "\n",
    "# correlate\n",
    "print(f'Differences in numbers of clusters correlated with rand indices per cluster pairing yields: \\\n",
    "{round(spearmanr(rand_indices_flat, cluster_diff_flat).statistic, 4)} (Spearman)')"
   ]
  },
  {
   "cell_type": "markdown",
   "id": "6f8cd444",
   "metadata": {},
   "source": [
    "### Choose final UMAP random seed"
   ]
  },
  {
   "cell_type": "code",
   "execution_count": null,
   "id": "ffd5c28b",
   "metadata": {},
   "outputs": [],
   "source": [
    "# randomly choose random seed that produces 40 clusters (majority of cluster solutions)\n",
    "# random.choice(random_seeds[np.where(no_clusters == 40)])\n",
    "print(\"Random seed yielding 40 clusters: 44669\")"
   ]
  },
  {
   "cell_type": "code",
   "execution_count": null,
   "id": "de185629",
   "metadata": {},
   "outputs": [],
   "source": [
    "print(f\"Random majority solution has average ARI of {round(avg_rand[np.where(random_seeds_trivial == 44669)[0][0]], 4)}.\")"
   ]
  },
  {
   "cell_type": "code",
   "execution_count": null,
   "id": "850ac1df-c0a3-4e8f-ade7-5e0296106653",
   "metadata": {},
   "outputs": [],
   "source": [
    "print(f\"The mean of average Adjusted Rand Indices after excluding trivial solutions is {round(np.mean(avg_rand), 4)}, \\\n",
    "the minimum is {round(np.min(avg_rand), 4)}, \\\n",
    "and the maximum is {round(np.max(avg_rand), 4)}.\")"
   ]
  },
  {
   "cell_type": "code",
   "execution_count": null,
   "id": "e3f7980c-a402-4d05-b976-fa7ec617a3fe",
   "metadata": {},
   "outputs": [],
   "source": []
  }
 ],
 "metadata": {
  "kernelspec": {
   "display_name": "Python 3 (ipykernel)",
   "language": "python",
   "name": "python3"
  },
  "language_info": {
   "codemirror_mode": {
    "name": "ipython",
    "version": 3
   },
   "file_extension": ".py",
   "mimetype": "text/x-python",
   "name": "python",
   "nbconvert_exporter": "python",
   "pygments_lexer": "ipython3",
   "version": "3.9.12"
  }
 },
 "nbformat": 4,
 "nbformat_minor": 5
}
