{
 "cells": [
  {
   "cell_type": "markdown",
   "metadata": {},
   "source": [
    "## Job crafting: Interpreting & Comparing"
   ]
  },
  {
   "cell_type": "code",
   "execution_count": null,
   "metadata": {},
   "outputs": [],
   "source": [
    "# choose based on Steps 5 & 6 - Evaluation:\n",
    "### UMAP parameters ###\n",
    "N_NEIGHBORS = 30\n",
    "MIN_DIST = 0.01\n",
    "N_COMPONENTS = 30\n",
    "RANDOM_STATE = 44669\n",
    "\n",
    "### HDBSCAN parameters ###\n",
    "MIN_SAMPLES = 10\n",
    "MIN_CLUSTER_SIZE = 10\n",
    "\n",
    "EMBEDDINGS = 'data/'"
   ]
  },
  {
   "cell_type": "code",
   "execution_count": null,
   "metadata": {},
   "outputs": [],
   "source": [
    "import nltk\n",
    "nltk.download('stopwords')"
   ]
  },
  {
   "cell_type": "code",
   "execution_count": null,
   "metadata": {},
   "outputs": [],
   "source": [
    "import warnings\n",
    "warnings.filterwarnings(\"ignore\")"
   ]
  },
  {
   "cell_type": "code",
   "execution_count": null,
   "metadata": {
    "id": "NbZM_l6uOQ95"
   },
   "outputs": [],
   "source": [
    "import os\n",
    "\n",
    "import pandas as pd\n",
    "import numpy as np\n",
    "\n",
    "import umap\n",
    "\n",
    "from bokeh.plotting import figure, show, save\n",
    "from bokeh.transform import factor_cmap\n",
    "from bokeh.palettes import Turbo256, Viridis256, Plasma256\n",
    "from bokeh.models import HoverTool\n",
    "# from bokeh.io import export_svg\n",
    "\n",
    "from sklearn.feature_extraction.text import CountVectorizer\n",
    "from nltk.corpus import stopwords"
   ]
  },
  {
   "cell_type": "code",
   "execution_count": null,
   "metadata": {},
   "outputs": [],
   "source": [
    "# create folder to save solution plots\n",
    "if not os.path.exists(f'solution'):\n",
    "    os.makedirs(f'solution')"
   ]
  },
  {
   "cell_type": "markdown",
   "metadata": {
    "id": "wYaupGlCOodL"
   },
   "source": [
    "### Load strategy texts & embeddings"
   ]
  },
  {
   "cell_type": "code",
   "execution_count": null,
   "metadata": {
    "id": "RUGNfhJ6NvCl"
   },
   "outputs": [],
   "source": [
    "# load raw strategy sentences\n",
    "data = pd.read_csv(EMBEDDINGS + 'strategies_raw.csv', sep=';')\n",
    "strategies = data['strategy text'].tolist()"
   ]
  },
  {
   "cell_type": "code",
   "execution_count": null,
   "metadata": {
    "id": "RIiKUA4qNw3s"
   },
   "outputs": [],
   "source": [
    "# load strategy embeddings and convert to numpy array\n",
    "strategy_embeddings = np.load(EMBEDDINGS + 'strategy_embeddings_masked.npy')"
   ]
  },
  {
   "cell_type": "markdown",
   "metadata": {},
   "source": [
    "### Define embedding & plotting functions"
   ]
  },
  {
   "cell_type": "code",
   "execution_count": null,
   "metadata": {},
   "outputs": [],
   "source": [
    "def umap_2D(embeds=strategy_embeddings):\n",
    "    # reduce dimensions further to 2D for plotting\n",
    "    umap_2D = umap.UMAP(n_neighbors=N_NEIGHBORS,\n",
    "                        min_dist=MIN_DIST,\n",
    "                        n_components=2,\n",
    "                        metric='cosine',\n",
    "                        random_state=RANDOM_STATE).fit(embeds)\n",
    "\n",
    "    umap_2D_embed = umap_2D.transform(embeds)\n",
    "    \n",
    "    return umap_2D_embed\n",
    "\n",
    "\n",
    "def plot_ER_atlas(umap_2D, labels, keep_clusters, x_range, y_range, map_type=1):\n",
    "    # create df with plotting data for bokeh interactive plot\n",
    "    # umap_2D: 2D representation of sentence embeddings\n",
    "    # labels: inferred cluster labels with HDBSCAN\n",
    "    # keep_clusters: array with True/False for clusters who survived/did not survive the intrusion task\n",
    "    # x_range, y_range: axis boundaries of plot\n",
    "    # map_type: 1 (kept clusters in green shades, discarded clusters in red shades)\n",
    "    #           2 (kept clusters in multiple colors, discarded clusters in dark grey)\n",
    "    #           3 (all clusters in multiple colors)\n",
    "    \n",
    "    clusters = np.delete(umap_2D, np.where(labels == -1)[0], axis=0)\n",
    "    cluster_labels = labels[labels != -1]\n",
    "    noise = np.delete(umap_2D, np.where(labels != -1)[0], axis=0)\n",
    "\n",
    "    cluster_df = pd.DataFrame()\n",
    "    cluster_df['x'] = clusters[:,0]\n",
    "    cluster_df['y'] = clusters[:,1]\n",
    "    cluster_df['labels'] = [str(label) for label in cluster_labels]\n",
    "    cluster_df['strategy_text'] = np.delete(strategies, np.where(labels == -1)[0])\n",
    "\n",
    "    noise_df = pd.DataFrame()\n",
    "    noise_df['x'] = noise[:,0]\n",
    "    noise_df['y'] = noise[:,1]\n",
    "    noise_df['strategy_text'] = np.delete(strategies, np.where(labels != -1)[0])\n",
    "    \n",
    "    # create interactive bokeh plot of ER strategy clusters \n",
    "    if map_type == 1:\n",
    "        step_keep = int(np.floor(50/keep_clusters.count(True)))\n",
    "        colors_keep = list(Viridis256[150:200:step_keep][:keep_clusters.count(True)])\n",
    "    \n",
    "        step_discard = int(np.floor(50/keep_clusters.count(False)))\n",
    "        colors_discard = list(Plasma256[150:200:step_discard][:keep_clusters.count(False)])\n",
    "    \n",
    "        colors = [colors_keep.pop(0) if keep_clusters[i] == True else colors_discard.pop(0) for i in range(len(keep_clusters))]\n",
    "\n",
    "    if map_type == 2:\n",
    "        step_keep = int(np.floor(len(Turbo256) / keep_clusters.count(True)))\n",
    "        colors_keep = list(Turbo256[::step_keep][:keep_clusters.count(True)])\n",
    "    \n",
    "        colors_discard = ['#7D8E8E'] * keep_clusters.count(False)\n",
    "    \n",
    "        colors = [colors_keep.pop(0) if keep_clusters[i] == True else colors_discard.pop(0) for i in range(len(keep_clusters))]\n",
    "        \n",
    "    if map_type == 3:\n",
    "        step = int(np.floor(len(Turbo256) / len(keep_clusters)))\n",
    "        colors = Turbo256[::step][:len(keep_clusters)]\n",
    "\n",
    "    p = figure(x_range=x_range, y_range=y_range, width=900, height=600, tools=['pan', 'wheel_zoom', 'reset', 'hover'])\n",
    "               #, title='Landscape of Emotion Regulation Strategies')\n",
    "    p.scatter(x='x', y='y', source=cluster_df, size=4, fill_alpha=0.5, color=factor_cmap('labels', colors, [str(x) for x in range(len(keep_clusters))]))\n",
    "    p.scatter(x='x', y='y', source=noise_df, size=4, fill_alpha=0.5, color='#B3CCCC', marker='cross')\n",
    "    p.xgrid.visible = False\n",
    "    p.ygrid.visible = False\n",
    "    p.xaxis.visible = False\n",
    "    p.yaxis.visible = False\n",
    "    p.title.align = 'center'\n",
    "    p.background_fill_color = '#F0F5F5'\n",
    "    hover = p.select(dict(type=HoverTool))\n",
    "    hover.tooltips = [('Text', '@strategy_text')]\n",
    "    \n",
    "    p.output_backend = \"svg\"\n",
    "    p.background_fill_color = None\n",
    "    p.border_fill_color = None\n",
    "        \n",
    "    return p"
   ]
  },
  {
   "cell_type": "markdown",
   "metadata": {
    "id": "IpG3b5wUipPa"
   },
   "source": [
    "### Compute 2D UMAP representation and plot"
   ]
  },
  {
   "cell_type": "code",
   "execution_count": null,
   "metadata": {},
   "outputs": [],
   "source": [
    "labels_robust = np.load(\"robustness_check/data/labels.npy\")\n",
    "random_seeds_robust = np.load(\"robustness_check/data/random_seeds.npy\")\n",
    "labels = labels_robust[np.where(random_seeds_robust == RANDOM_STATE)[0][0]]"
   ]
  },
  {
   "cell_type": "code",
   "execution_count": null,
   "metadata": {},
   "outputs": [],
   "source": [
    "survey_analysis = pd.read_csv('intrusion/intrusion_survey_results.txt')\n",
    "survey_analysis.columns = ['Cluster', 'Fraction']\n",
    "\n",
    "keep_clusters = [True if x > 0.67 else False for x in survey_analysis.Fraction]"
   ]
  },
  {
   "cell_type": "code",
   "execution_count": null,
   "metadata": {},
   "outputs": [],
   "source": [
    "umap_2D_masked = umap_2D(embeds=strategy_embeddings)"
   ]
  },
  {
   "cell_type": "code",
   "execution_count": null,
   "metadata": {},
   "outputs": [],
   "source": [
    "h = plot_ER_atlas(umap_2D_masked, labels, keep_clusters, (10, 16), (4, 14), map_type=2)\n",
    "# show(h)\n",
    "save(h, filename=\"solution/strategy_class_map.html\")\n",
    "# export_svg(h, filename=\"solution/ER_atlas_green_red.svg\")"
   ]
  },
  {
   "cell_type": "markdown",
   "metadata": {},
   "source": [
    "### Inspect clusters for interpretation"
   ]
  },
  {
   "cell_type": "code",
   "execution_count": null,
   "metadata": {},
   "outputs": [],
   "source": [
    "# create dataframe with sentences and cluster labels\n",
    "label_df = pd.DataFrame(strategies, columns=['reap'])\n",
    "label_df['Label'] = labels\n",
    "# label_df.to_csv('strategies_labels.csv', index=False)"
   ]
  },
  {
   "cell_type": "code",
   "execution_count": null,
   "metadata": {
    "scrolled": true
   },
   "outputs": [],
   "source": [
    "CLUSTER = 0  # print sentences for cluster CLUSTER\n",
    "\n",
    "print(f'CLUSTER {CLUSTER}: \\n')\n",
    "for i in label_df[label_df.Label == CLUSTER]['reap'].tolist():\n",
    "    print(i)"
   ]
  },
  {
   "cell_type": "code",
   "execution_count": null,
   "metadata": {},
   "outputs": [],
   "source": [
    "# write cluster contents to file\n",
    "with open(\"solution/cluster_content.txt\", \"w\") as f:\n",
    "    for cluster in range(25):\n",
    "        if keep_clusters[cluster]:\n",
    "            f.write(f\"CLUSTER {cluster}\\n\")\n",
    "            for sentence in label_df[label_df.Label == cluster]['reap'].tolist():\n",
    "                f.write(sentence)\n",
    "                f.write(\"\\n\")\n",
    "            f.write(\"\\n\")"
   ]
  },
  {
   "cell_type": "markdown",
   "metadata": {
    "id": "d0y_smdpxiKh"
   },
   "source": [
    "### Extract cluster top words table with c-TF_IDF (class-based TF-IFD)\n",
    "(see BERTopic tutorial)"
   ]
  },
  {
   "cell_type": "code",
   "execution_count": null,
   "metadata": {
    "id": "no3_LNzWyLuR"
   },
   "outputs": [],
   "source": [
    "### DEFINE TOP WORDS HELPER FUNCTIONS ###\n",
    "\n",
    "ENGLISH_STOP = stopwords.words('spanish')\n",
    "\n",
    "\n",
    "def c_tf_idf(documents, m):\n",
    "    # documents: single document of concatenated documents per class\n",
    "    # m: original number of documents\n",
    "    count = CountVectorizer(stop_words=ENGLISH_STOP).fit(documents)\n",
    "    t = count.transform(documents).toarray()\n",
    "    w = t.sum(axis=1)\n",
    "    tf = np.divide(t.T, w)\n",
    "    sum_t = t.sum(axis=0)\n",
    "    idf = np.log(np.divide(m, sum_t)).reshape(-1, 1)\n",
    "    tf_idf = np.multiply(tf, idf)\n",
    "\n",
    "    return tf_idf, count\n",
    "\n",
    "\n",
    "def extract_topic_topwords(tf_idf, count, docs_per_topic, n=20):\n",
    "    # tf_idf: c_tf_idf\n",
    "    # count: CountVectorizer\n",
    "    # docs_per_topic: c_tf_idf dataframe\n",
    "    # n: number of topwords to be returned (dictionary with {topic_labels: top_words})\n",
    "    words = count.get_feature_names_out()\n",
    "    labels = list(docs_per_topic.Topic)\n",
    "    tf_idf_transposed = tf_idf.T\n",
    "    indices = tf_idf_transposed.argsort()[:, -n:]\n",
    "    top_n_words = {label: [(words[j], tf_idf_transposed[i][j]) for j in indices[i]][::-1] for i, label in enumerate(labels)}\n",
    "    \n",
    "    return top_n_words\n",
    "\n",
    "def top_words_table(labels, n=10):\n",
    "    \"\"\"extracts top n words for each cluster based on a tf-idf cluster representation\"\"\"\n",
    "    \"\"\"FOR VISUALIZATION PURPOSES\"\"\"\n",
    "    # create single document with all documents (=strategy texts) in single cluster\n",
    "    docs_df = pd.DataFrame(strategies, columns=[\"Doc\"])\n",
    "    docs_df['Topic'] = labels\n",
    "    docs_per_topic = docs_df.groupby(['Topic'], as_index = False).agg({'Doc': ' '.join})\n",
    "\n",
    "    # extract topwords\n",
    "    tf_idf, count = c_tf_idf(docs_per_topic.Doc.values, m=len(strategies))\n",
    "    top_n_words = extract_topic_topwords(tf_idf, count, docs_per_topic, n=n)\n",
    "    \n",
    "    top_words_table = pd.DataFrame(columns=['Cluster', 'Top Words'])\n",
    "\n",
    "    for i, j in zip(top_n_words, range(len(top_n_words))):\n",
    "        top_words_table.loc[j] = [i, ' '.join([j[0] for j in top_n_words[i]])]\n",
    "\n",
    "    return top_words_table"
   ]
  },
  {
   "cell_type": "code",
   "execution_count": null,
   "metadata": {},
   "outputs": [],
   "source": [
    "# compute and display top words table\n",
    "pd.set_option('display.max_colwidth', 1000)\n",
    "table = top_words_table(labels)\n",
    "table.to_csv(\"solution/cluster_top_words.csv\", index=False)\n",
    "table"
   ]
  },
  {
   "cell_type": "code",
   "execution_count": null,
   "metadata": {},
   "outputs": [],
   "source": []
  }
 ],
 "metadata": {
  "colab": {
   "collapsed_sections": [],
   "name": "ClustER_UMAP_feat_HDBSCAN.ipynb",
   "provenance": []
  },
  "kernelspec": {
   "display_name": "Python 3 (ipykernel)",
   "language": "python",
   "name": "python3"
  },
  "language_info": {
   "codemirror_mode": {
    "name": "ipython",
    "version": 3
   },
   "file_extension": ".py",
   "mimetype": "text/x-python",
   "name": "python",
   "nbconvert_exporter": "python",
   "pygments_lexer": "ipython3",
   "version": "3.9.12"
  },
  "widgets": {
   "application/vnd.jupyter.widget-state+json": {
    "13ad6129c3af454bb1db2dcdb19e3c3f": {
     "model_module": "@jupyter-widgets/controls",
     "model_module_version": "1.5.0",
     "model_name": "FloatProgressModel",
     "state": {
      "_dom_classes": [],
      "_model_module": "@jupyter-widgets/controls",
      "_model_module_version": "1.5.0",
      "_model_name": "FloatProgressModel",
      "_view_count": null,
      "_view_module": "@jupyter-widgets/controls",
      "_view_module_version": "1.5.0",
      "_view_name": "ProgressView",
      "bar_style": "success",
      "description": "",
      "description_tooltip": null,
      "layout": "IPY_MODEL_df294223fb1e4e1f9c96ac1ba449076a",
      "max": 189,
      "min": 0,
      "orientation": "horizontal",
      "style": "IPY_MODEL_f2dc7f8f230f4e64b076716e5f327a4d",
      "value": 189
     }
    },
    "4940febc96024fe1a7b9bcc438982bb0": {
     "model_module": "@jupyter-widgets/controls",
     "model_module_version": "1.5.0",
     "model_name": "HTMLModel",
     "state": {
      "_dom_classes": [],
      "_model_module": "@jupyter-widgets/controls",
      "_model_module_version": "1.5.0",
      "_model_name": "HTMLModel",
      "_view_count": null,
      "_view_module": "@jupyter-widgets/controls",
      "_view_module_version": "1.5.0",
      "_view_name": "HTMLView",
      "description": "",
      "description_tooltip": null,
      "layout": "IPY_MODEL_8111d9cbe45e457dbbb0a1885b8d618c",
      "placeholder": "​",
      "style": "IPY_MODEL_806110fc66e242e3b8017a23df718843",
      "value": " 189/189 [00:16&lt;00:00, 22.90it/s]"
     }
    },
    "715335c00ad9443bbd97920f231d85d6": {
     "model_module": "@jupyter-widgets/controls",
     "model_module_version": "1.5.0",
     "model_name": "HTMLModel",
     "state": {
      "_dom_classes": [],
      "_model_module": "@jupyter-widgets/controls",
      "_model_module_version": "1.5.0",
      "_model_name": "HTMLModel",
      "_view_count": null,
      "_view_module": "@jupyter-widgets/controls",
      "_view_module_version": "1.5.0",
      "_view_name": "HTMLView",
      "description": "",
      "description_tooltip": null,
      "layout": "IPY_MODEL_d1b31f700fda47c790ec4d8b076669b0",
      "placeholder": "​",
      "style": "IPY_MODEL_7ca460c08d8c4ffe906d84bafe7530bd",
      "value": "Batches: 100%"
     }
    },
    "7ca460c08d8c4ffe906d84bafe7530bd": {
     "model_module": "@jupyter-widgets/controls",
     "model_module_version": "1.5.0",
     "model_name": "DescriptionStyleModel",
     "state": {
      "_model_module": "@jupyter-widgets/controls",
      "_model_module_version": "1.5.0",
      "_model_name": "DescriptionStyleModel",
      "_view_count": null,
      "_view_module": "@jupyter-widgets/base",
      "_view_module_version": "1.2.0",
      "_view_name": "StyleView",
      "description_width": ""
     }
    },
    "806110fc66e242e3b8017a23df718843": {
     "model_module": "@jupyter-widgets/controls",
     "model_module_version": "1.5.0",
     "model_name": "DescriptionStyleModel",
     "state": {
      "_model_module": "@jupyter-widgets/controls",
      "_model_module_version": "1.5.0",
      "_model_name": "DescriptionStyleModel",
      "_view_count": null,
      "_view_module": "@jupyter-widgets/base",
      "_view_module_version": "1.2.0",
      "_view_name": "StyleView",
      "description_width": ""
     }
    },
    "8111d9cbe45e457dbbb0a1885b8d618c": {
     "model_module": "@jupyter-widgets/base",
     "model_module_version": "1.2.0",
     "model_name": "LayoutModel",
     "state": {
      "_model_module": "@jupyter-widgets/base",
      "_model_module_version": "1.2.0",
      "_model_name": "LayoutModel",
      "_view_count": null,
      "_view_module": "@jupyter-widgets/base",
      "_view_module_version": "1.2.0",
      "_view_name": "LayoutView",
      "align_content": null,
      "align_items": null,
      "align_self": null,
      "border": null,
      "bottom": null,
      "display": null,
      "flex": null,
      "flex_flow": null,
      "grid_area": null,
      "grid_auto_columns": null,
      "grid_auto_flow": null,
      "grid_auto_rows": null,
      "grid_column": null,
      "grid_gap": null,
      "grid_row": null,
      "grid_template_areas": null,
      "grid_template_columns": null,
      "grid_template_rows": null,
      "height": null,
      "justify_content": null,
      "justify_items": null,
      "left": null,
      "margin": null,
      "max_height": null,
      "max_width": null,
      "min_height": null,
      "min_width": null,
      "object_fit": null,
      "object_position": null,
      "order": null,
      "overflow": null,
      "overflow_x": null,
      "overflow_y": null,
      "padding": null,
      "right": null,
      "top": null,
      "visibility": null,
      "width": null
     }
    },
    "d1b31f700fda47c790ec4d8b076669b0": {
     "model_module": "@jupyter-widgets/base",
     "model_module_version": "1.2.0",
     "model_name": "LayoutModel",
     "state": {
      "_model_module": "@jupyter-widgets/base",
      "_model_module_version": "1.2.0",
      "_model_name": "LayoutModel",
      "_view_count": null,
      "_view_module": "@jupyter-widgets/base",
      "_view_module_version": "1.2.0",
      "_view_name": "LayoutView",
      "align_content": null,
      "align_items": null,
      "align_self": null,
      "border": null,
      "bottom": null,
      "display": null,
      "flex": null,
      "flex_flow": null,
      "grid_area": null,
      "grid_auto_columns": null,
      "grid_auto_flow": null,
      "grid_auto_rows": null,
      "grid_column": null,
      "grid_gap": null,
      "grid_row": null,
      "grid_template_areas": null,
      "grid_template_columns": null,
      "grid_template_rows": null,
      "height": null,
      "justify_content": null,
      "justify_items": null,
      "left": null,
      "margin": null,
      "max_height": null,
      "max_width": null,
      "min_height": null,
      "min_width": null,
      "object_fit": null,
      "object_position": null,
      "order": null,
      "overflow": null,
      "overflow_x": null,
      "overflow_y": null,
      "padding": null,
      "right": null,
      "top": null,
      "visibility": null,
      "width": null
     }
    },
    "df294223fb1e4e1f9c96ac1ba449076a": {
     "model_module": "@jupyter-widgets/base",
     "model_module_version": "1.2.0",
     "model_name": "LayoutModel",
     "state": {
      "_model_module": "@jupyter-widgets/base",
      "_model_module_version": "1.2.0",
      "_model_name": "LayoutModel",
      "_view_count": null,
      "_view_module": "@jupyter-widgets/base",
      "_view_module_version": "1.2.0",
      "_view_name": "LayoutView",
      "align_content": null,
      "align_items": null,
      "align_self": null,
      "border": null,
      "bottom": null,
      "display": null,
      "flex": null,
      "flex_flow": null,
      "grid_area": null,
      "grid_auto_columns": null,
      "grid_auto_flow": null,
      "grid_auto_rows": null,
      "grid_column": null,
      "grid_gap": null,
      "grid_row": null,
      "grid_template_areas": null,
      "grid_template_columns": null,
      "grid_template_rows": null,
      "height": null,
      "justify_content": null,
      "justify_items": null,
      "left": null,
      "margin": null,
      "max_height": null,
      "max_width": null,
      "min_height": null,
      "min_width": null,
      "object_fit": null,
      "object_position": null,
      "order": null,
      "overflow": null,
      "overflow_x": null,
      "overflow_y": null,
      "padding": null,
      "right": null,
      "top": null,
      "visibility": null,
      "width": null
     }
    },
    "f2dc7f8f230f4e64b076716e5f327a4d": {
     "model_module": "@jupyter-widgets/controls",
     "model_module_version": "1.5.0",
     "model_name": "ProgressStyleModel",
     "state": {
      "_model_module": "@jupyter-widgets/controls",
      "_model_module_version": "1.5.0",
      "_model_name": "ProgressStyleModel",
      "_view_count": null,
      "_view_module": "@jupyter-widgets/base",
      "_view_module_version": "1.2.0",
      "_view_name": "StyleView",
      "bar_color": null,
      "description_width": ""
     }
    },
    "f4c1af507a3e4879a7503b9c5fb97abf": {
     "model_module": "@jupyter-widgets/base",
     "model_module_version": "1.2.0",
     "model_name": "LayoutModel",
     "state": {
      "_model_module": "@jupyter-widgets/base",
      "_model_module_version": "1.2.0",
      "_model_name": "LayoutModel",
      "_view_count": null,
      "_view_module": "@jupyter-widgets/base",
      "_view_module_version": "1.2.0",
      "_view_name": "LayoutView",
      "align_content": null,
      "align_items": null,
      "align_self": null,
      "border": null,
      "bottom": null,
      "display": null,
      "flex": null,
      "flex_flow": null,
      "grid_area": null,
      "grid_auto_columns": null,
      "grid_auto_flow": null,
      "grid_auto_rows": null,
      "grid_column": null,
      "grid_gap": null,
      "grid_row": null,
      "grid_template_areas": null,
      "grid_template_columns": null,
      "grid_template_rows": null,
      "height": null,
      "justify_content": null,
      "justify_items": null,
      "left": null,
      "margin": null,
      "max_height": null,
      "max_width": null,
      "min_height": null,
      "min_width": null,
      "object_fit": null,
      "object_position": null,
      "order": null,
      "overflow": null,
      "overflow_x": null,
      "overflow_y": null,
      "padding": null,
      "right": null,
      "top": null,
      "visibility": null,
      "width": null
     }
    },
    "f4e8f4ac221a477caece692e3bba87d4": {
     "model_module": "@jupyter-widgets/controls",
     "model_module_version": "1.5.0",
     "model_name": "HBoxModel",
     "state": {
      "_dom_classes": [],
      "_model_module": "@jupyter-widgets/controls",
      "_model_module_version": "1.5.0",
      "_model_name": "HBoxModel",
      "_view_count": null,
      "_view_module": "@jupyter-widgets/controls",
      "_view_module_version": "1.5.0",
      "_view_name": "HBoxView",
      "box_style": "",
      "children": [
       "IPY_MODEL_715335c00ad9443bbd97920f231d85d6",
       "IPY_MODEL_13ad6129c3af454bb1db2dcdb19e3c3f",
       "IPY_MODEL_4940febc96024fe1a7b9bcc438982bb0"
      ],
      "layout": "IPY_MODEL_f4c1af507a3e4879a7503b9c5fb97abf"
     }
    }
   }
  }
 },
 "nbformat": 4,
 "nbformat_minor": 4
}
