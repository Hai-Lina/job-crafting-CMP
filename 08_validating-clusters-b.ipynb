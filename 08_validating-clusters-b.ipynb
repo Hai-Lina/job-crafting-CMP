{
 "cells": [
  {
   "cell_type": "markdown",
   "id": "e989e363",
   "metadata": {},
   "source": [
    "## Job Crafting: Evaluating Intrusion Task"
   ]
  },
  {
   "cell_type": "code",
   "execution_count": null,
   "id": "9da66c8c-5bb5-4ee9-aef3-f4611ae7082b",
   "metadata": {},
   "outputs": [],
   "source": [
    "import os\n",
    "import numpy as np\n",
    "import pandas as pd\n",
    "import matplotlib.pyplot as plt"
   ]
  },
  {
   "cell_type": "code",
   "execution_count": null,
   "id": "1904746c-cb74-421f-8561-53230684d2bd",
   "metadata": {},
   "outputs": [],
   "source": [
    "PATH = 'intrusion/figures/'"
   ]
  },
  {
   "cell_type": "code",
   "execution_count": null,
   "id": "7092298d-0907-437d-ba0f-cb97453272ff",
   "metadata": {},
   "outputs": [],
   "source": [
    "if not os.path.exists(PATH):\n",
    "    os.makedirs(PATH)"
   ]
  },
  {
   "cell_type": "markdown",
   "id": "32189d50-3b86-4f2c-b586-51c9ca3b4ab5",
   "metadata": {},
   "source": [
    "### Evaluate survey results (Prolific, n = 30)"
   ]
  },
  {
   "cell_type": "code",
   "execution_count": null,
   "id": "6962fc74-382f-486a-a550-b051c19e86d9",
   "metadata": {},
   "outputs": [],
   "source": [
    "# import data\n",
    "data1 = pd.read_csv(\"intrusion/data/tarea-de-intrusion-1-clean.csv\")\n",
    "data2 = pd.read_csv(\"intrusion/data/tarea-de-intrusion-2-clean.csv\")\n",
    "data3 = pd.read_csv(\"intrusion/data/tarea-de-intrusion-3-clean.csv\")"
   ]
  },
  {
   "cell_type": "code",
   "execution_count": null,
   "id": "c114bdf7-b28d-4779-a1d5-1413bd35ed8e",
   "metadata": {},
   "outputs": [],
   "source": [
    "# plot survey duration in minutes\n",
    "fig, ax = plt.subplots(figsize=(8, 4))\n",
    "\n",
    "time = pd.concat([data1.Time, data2.Time, data3.Time])\n",
    "\n",
    "ax.hist([x/60 for x in time],\n",
    "        bins=np.arange(0, 61, 2.5),\n",
    "        color='cornflowerblue')\n",
    "\n",
    "ax.set_xticks(np.arange(0, 61, 5))\n",
    "ax.set_yticks(np.arange(0, 8, 1))\n",
    "\n",
    "for pos in ('top', 'right', 'bottom', 'left'):\n",
    "    ax.spines[pos].set_visible(False)\n",
    "\n",
    "ax.set_facecolor('ghostwhite')\n",
    "ax.grid(axis='y', color='lightgrey', linewidth=1)\n",
    "ax.set_axisbelow(True)\n",
    "ax.set_xlabel('Duration (in minutes)', fontsize=12)\n",
    "ax.set_ylabel('Number of paticipants', fontsize=12)\n",
    "\n",
    "plt.savefig(PATH + 'response_times.jpeg', dpi=300)"
   ]
  },
  {
   "cell_type": "code",
   "execution_count": null,
   "id": "634ee6e2-091c-4420-8904-8d504b2374ab",
   "metadata": {},
   "outputs": [],
   "source": [
    "# calculate average survey duration and standard deviation (in minutes)\n",
    "mean_dur = np.median([x/60 for x in time])\n",
    "p25_dur = np.percentile([x/60 for x in time], 25)\n",
    "p75_dur = np.percentile([x/60 for x in time], 75)\n",
    "\n",
    "print(f\"Median duration: {mean_dur:.2f} min\")\n",
    "print(f\"25th percentile: {p25_dur:.2f} min\")\n",
    "print(f\"75th percentile: {p75_dur:.2f} min\")"
   ]
  },
  {
   "cell_type": "code",
   "execution_count": null,
   "id": "aed4b9a0-e065-4a94-a76e-ebacc279ec4d",
   "metadata": {},
   "outputs": [],
   "source": [
    "# check attention checks\n",
    "print(\"Attention checks\")\n",
    "\n",
    "check_list = []\n",
    "for batch in [data1, data2, data3]:\n",
    "    for participant in batch.iterrows():\n",
    "        check_part = 0\n",
    "        if participant[1].A1 not in [\"Las rosas son rojas\", \"El agua está caliente\", \"Los pájaros nadan\"]:\n",
    "            check_part += 1\n",
    "        if participant[1].A2 not in [\"Tengo una naranja\", \"Los trenes son rápidos\", \"llevo un reloj en la muñeca\"]:\n",
    "            check_part += 1\n",
    "        if participant[1].A3 not in [\"Los gatos maúllan\", \"Voy a cocinar arroz\", \"Los niños juegan en el parque\"]:\n",
    "            check_part += 1\n",
    "        if participant[1].A4 not in [\"Hoy es martes\", \"La luna brilla\", \"Las abejas hacen queso\"]:\n",
    "            check_part += 1\n",
    "        if participant[1].A5 not in [\"Voy al cine\", \"Hace frío\", \"Los árboles son pequeños\"]:\n",
    "            check_part += 1\n",
    "        if participant[1].A6 not in [\"Me gusta leer revistas\", \"Estoy escribiendo un poema\", \"Hoy es jueves\"]:\n",
    "            check_part += 1\n",
    "        check_list.append(check_part)\n",
    "\n",
    "print(f\"Participants failing 0 attention checks: {check_list.count(0)}\")\n",
    "print(f\"Participants failing 1 attention checks: {check_list.count(1)}\")\n",
    "print(f\"Participants failing 2 attention checks: {check_list.count(2)}\")\n",
    "print(f\"Participants failing 3 attention checks: {check_list.count(3)}\")\n",
    "print(f\"Participants failing 4 attention checks: {check_list.count(4)}\")\n",
    "print(f\"Participants failing 5 attention checks: {check_list.count(5)}\")\n",
    "print(f\"Participants failing 6 attention checks: {check_list.count(6)}\")"
   ]
  },
  {
   "cell_type": "code",
   "execution_count": null,
   "id": "cf13c77b-21ac-4a65-a15a-9bd59c6662cd",
   "metadata": {},
   "outputs": [],
   "source": [
    "# inspect feedback\n",
    "print(\"Feedback:\")\n",
    "\n",
    "feedback = pd.concat([data1.Feedback, data2.Feedback, data3.Feedback]).dropna()\n",
    "\n",
    "if len(feedback) == 0:\n",
    "    print(\"N/A\")\n",
    "else:\n",
    "    for f in feedback:\n",
    "        print(f)"
   ]
  },
  {
   "cell_type": "code",
   "execution_count": null,
   "id": "55879837-78ce-457d-b95b-d7048d8d74c2",
   "metadata": {},
   "outputs": [],
   "source": [
    "# get gender distribution of sample\n",
    "print(\"Gender distribution\")\n",
    "\n",
    "gender = pd.concat([data1.Gender, data2.Gender, data3.Gender])\n",
    "\n",
    "def count_gender(code='Mujer'):\n",
    "    return (list(gender).count(code), round((list(gender).count(code) / len(gender)) * 100, 2))\n",
    "\n",
    "print(f\"Woman: n = {count_gender('Mujer')[0]}, {count_gender('Mujer')[1]} %\")\n",
    "print(f\"Man: n = {count_gender('Hombre')[0]}, {count_gender('Hombre')[1]} %\")\n",
    "print(f\"Non-binary: n = {count_gender('No binario')[0]}, {count_gender('No binario')[1]} %\")\n",
    "print(f\"Self-describe: n = {count_gender('Prefiero autodescribirme (ver abajo)')[0]}, {count_gender('Prefiero autodescribirme (ver abajo)')[1]} %\")\n",
    "print(f\"Prefer not to say: n = {count_gender('Prefiero no decirlo')[0]}, {count_gender('Prefiero no decirlo')[1]} %\")"
   ]
  },
  {
   "cell_type": "code",
   "execution_count": null,
   "id": "8d963e25-6745-4b01-925e-c11375413574",
   "metadata": {},
   "outputs": [],
   "source": [
    "# get age distribution of sample\n",
    "print(\"Age distribution\")\n",
    "\n",
    "age = pd.concat([data1.Age, data2.Age, data3.Age])\n",
    "\n",
    "print(f\"Average age: {round(np.mean([x for x in age]), 2)}\")\n",
    "print(f\"STD: {round(np.std([int(x) for x in age]), 2)}\")\n",
    "print(f\"Minimum: {np.min([int(x) for x in age])}\")\n",
    "print(f\"Maximum: {np.max([int(x) for x in age])}\")"
   ]
  },
  {
   "cell_type": "markdown",
   "id": "a3598b23",
   "metadata": {},
   "source": [
    "### Analyze intrusion results"
   ]
  },
  {
   "cell_type": "code",
   "execution_count": null,
   "id": "80e35d5a",
   "metadata": {},
   "outputs": [],
   "source": [
    "# create dataframe with results\n",
    "results = pd.concat([data1[[f\"{x}\" for x in range(1, 53)]],\n",
    "                     data2[[f\"{x}\" for x in range(1, 53)]],\n",
    "                     data3[[f\"{x}\" for x in range(1, 51)]]], axis=1)\n",
    "\n",
    "results.columns = [f\"{x}\" for x in range(1, 155)]\n",
    "\n",
    "print(f\"Sanity check // Amount of answers per item: {len(results)}\")"
   ]
  },
  {
   "cell_type": "code",
   "execution_count": null,
   "id": "dcdafeb2",
   "metadata": {},
   "outputs": [],
   "source": [
    "# read 'right' answers to survey questions\n",
    "solution = pd.read_csv('intrusion/survey_solution.txt')\n",
    "solution.columns = ['Item', 'Cluster', 'Solution']\n",
    "solution.head()"
   ]
  },
  {
   "cell_type": "code",
   "execution_count": null,
   "id": "c39b9bfe",
   "metadata": {},
   "outputs": [],
   "source": [
    "# construct dataframe with 0 for false and 1 for right answers\n",
    "array = np.zeros(results.shape)\n",
    "\n",
    "for i in range(results.shape[1]):\n",
    "    d = {0: 0, 1: 0, 2: 0, 3: 0}\n",
    "    d[solution.Solution.iloc[i]] = 1\n",
    "    array[:, i] = [d[x] for x in list(results[f'{i+1}'])]\n",
    "\n",
    "survey_yn = pd.DataFrame(array.astype(int))\n",
    "survey_yn.columns = list(range(1, 155))\n",
    "survey_yn.head()"
   ]
  },
  {
   "cell_type": "code",
   "execution_count": null,
   "id": "3eeca72b",
   "metadata": {},
   "outputs": [],
   "source": [
    "# calculate fraction of found intruders per item\n",
    "frac = [survey_yn[y].sum() / len(survey_yn) for y in range(1, 155)]\n",
    "\n",
    "# sum up fractions per cluster and store in cluster dict along with items per cluster\n",
    "raw_tuples = [(x, [0, 0]) for x in range(max(solution.Cluster)+1)]\n",
    "sum_dict = dict((x, y) for x, y in raw_tuples)\n",
    "\n",
    "for i in range(len(solution)):\n",
    "    sum_dict[solution.loc[i].Cluster][0] = sum_dict[solution.loc[i].Cluster][0] + frac[i]\n",
    "    sum_dict[solution.loc[i].Cluster][1] = sum_dict[solution.loc[i].Cluster][1] + 1"
   ]
  },
  {
   "cell_type": "code",
   "execution_count": null,
   "id": "a2876693",
   "metadata": {},
   "outputs": [],
   "source": [
    "# calculate final results: average fraction of found intruders per cluster\n",
    "print('INTRUSION SURVEY RESULTS')\n",
    "print('Cluster, Fraction')\n",
    "for i in sum_dict:\n",
    "    print(f'{i}, {(sum_dict[i][0] / sum_dict[i][1]):.2f}')\n",
    "\n",
    "# store results in file\n",
    "with open('intrusion_survey_results.txt', 'w') as file:\n",
    "    file.write('Cluster, Fraction\\n')\n",
    "    for i in sum_dict:\n",
    "        file.write(f'{i}, {(sum_dict[i][0] / sum_dict[i][1]):.2f}')\n",
    "        file.write('\\n')"
   ]
  },
  {
   "cell_type": "code",
   "execution_count": null,
   "id": "dd367948",
   "metadata": {},
   "outputs": [],
   "source": [
    "# plot fraction of found intruders per cluster (bar plot)\n",
    "frac_overall = [(sum_dict[x][0] / sum_dict[x][1]) for x in sum_dict]\n",
    "\n",
    "fig, ax = plt.subplots(figsize=(18, 6))\n",
    "\n",
    "for pos in ('top', 'right', 'bottom', 'left'):\n",
    "    ax.spines[pos].set_visible(False)\n",
    "\n",
    "c = ['cornflowerblue'] * len(frac_overall)\n",
    "# for i in (0, 8, 22):\n",
    "#     c[i] = 'coral'\n",
    "y_pos = np.arange(len(frac_overall))\n",
    "\n",
    "ax.set_facecolor('ghostwhite')\n",
    "ax.bar(y_pos, frac_overall, align='center', color=c)\n",
    "ax.axhline(y=0.67, color='coral', linestyle='--')\n",
    "ax.grid(axis='y', color='lightgrey', linewidth=1)\n",
    "ax.set_axisbelow(True)\n",
    "ax.set_xticks(y_pos, labels=np.arange(1, len(frac_overall)+1))\n",
    "ax.set_ylabel('Fraction of found intruders', fontsize=14)\n",
    "ax.set_xlabel('Cluster number', fontsize=14)\n",
    "\n",
    "plt.savefig(PATH + 'fraction_intruders_per_cluster.jpeg', dpi=300)"
   ]
  },
  {
   "cell_type": "code",
   "execution_count": null,
   "id": "e6aab6e5",
   "metadata": {},
   "outputs": [],
   "source": [
    "# visualize distribution of fraction of found intruders in clusters\n",
    "survey_analysis = pd.read_csv('intrusion_survey_results.txt')\n",
    "survey_analysis.columns = ['Cluster', 'Fraction']\n",
    "\n",
    "plt.figure(figsize=(10,6))\n",
    "plt.hist(survey_analysis.Fraction, rwidth=0.9, color='teal', bins=np.arange(0, 1.01, 0.05))\n",
    "plt.grid(axis='y', color='lightgrey', linewidth=0.5)\n",
    "plt.xlabel('Average fraction of intruders found')\n",
    "plt.ylabel('Frequency')\n",
    "plt.title('Frequency of fractions of found intruders in clusters')\n",
    "\n",
    "plt.savefig(PATH + 'fraction_found_intruders_hist.jpeg', dpi=300)"
   ]
  },
  {
   "cell_type": "markdown",
   "id": "ba3d0949-776e-4aa6-9aa7-795f06b54d6c",
   "metadata": {},
   "source": [
    "### Setting the cut-off score"
   ]
  },
  {
   "cell_type": "code",
   "execution_count": null,
   "id": "d6bd637d-351f-40e9-9a78-822cf02c84b4",
   "metadata": {},
   "outputs": [],
   "source": [
    "print(f\"With a 2/3 majority vote, we discard {list(survey_analysis.Fraction < 0.67).count(True)}/40 clusters.\")\n",
    "\n",
    "print(\"Remaining clusters:\")\n",
    "for i in range(len(survey_analysis)):\n",
    "    if survey_analysis.Fraction.iloc[i] >= 0.67:\n",
    "        print(survey_analysis.Cluster.iloc[i]+1)\n",
    "print(\"Beware: Python 0=1, 1=2, ...\")"
   ]
  },
  {
   "cell_type": "code",
   "execution_count": null,
   "id": "780ac919-7405-4494-b4e9-369865c32b5b",
   "metadata": {},
   "outputs": [],
   "source": []
  }
 ],
 "metadata": {
  "kernelspec": {
   "display_name": "Python 3 (ipykernel)",
   "language": "python",
   "name": "python3"
  },
  "language_info": {
   "codemirror_mode": {
    "name": "ipython",
    "version": 3
   },
   "file_extension": ".py",
   "mimetype": "text/x-python",
   "name": "python",
   "nbconvert_exporter": "python",
   "pygments_lexer": "ipython3",
   "version": "3.9.12"
  }
 },
 "nbformat": 4,
 "nbformat_minor": 5
}
