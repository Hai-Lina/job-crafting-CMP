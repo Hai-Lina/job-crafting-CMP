{
 "cells": [
  {
   "cell_type": "markdown",
   "id": "e989e363",
   "metadata": {},
   "source": [
    "## Job Crafting: Creating Intrusion Task"
   ]
  },
  {
   "cell_type": "code",
   "execution_count": null,
   "id": "0f3e05a6",
   "metadata": {},
   "outputs": [],
   "source": [
    "### FINAL UMAP PARAMETERS ###\n",
    "\n",
    "N_NEIGHBORS = 30\n",
    "MIN_DIST = 0.01\n",
    "N_COMPONENTS = 30\n",
    "METRIC_UMAP = 'cosine'\n",
    "RANDOM_STATE = 44669\n",
    "\n",
    "### FINAL HDBSCAN PARAMETERS ###\n",
    "\n",
    "MIN_CLUSTER_SIZE = 10\n",
    "MIN_SAMPLES = 10\n",
    "METRIC_HDBSCAN = 'euclidean'\n",
    "\n",
    "EMBEDDINGS = 'data/'"
   ]
  },
  {
   "cell_type": "code",
   "execution_count": null,
   "id": "387b9d1e",
   "metadata": {},
   "outputs": [],
   "source": [
    "import numpy as np\n",
    "import pandas as pd\n",
    "\n",
    "import umap\n",
    "import hdbscan\n",
    "\n",
    "import os\n",
    "import random"
   ]
  },
  {
   "cell_type": "markdown",
   "id": "6f66060b-1bc3-4c5d-bde8-c625735cd7c3",
   "metadata": {},
   "source": [
    "### Load strategy texts & embeddings"
   ]
  },
  {
   "cell_type": "code",
   "execution_count": null,
   "id": "93ab8225",
   "metadata": {},
   "outputs": [],
   "source": [
    "# load raw strategy sentences\n",
    "data = pd.read_csv(EMBEDDINGS + 'strategies_raw.csv', sep=';')\n",
    "strategies = data['strategy text'].tolist()"
   ]
  },
  {
   "cell_type": "code",
   "execution_count": null,
   "id": "33dfebbb",
   "metadata": {},
   "outputs": [],
   "source": [
    "# load strategy embeddings and convert to numpy array\n",
    "strategy_embeddings = np.load(EMBEDDINGS + 'strategy_embeddings_masked.npy')"
   ]
  },
  {
   "cell_type": "markdown",
   "id": "2bfa886f",
   "metadata": {},
   "source": [
    "### Define helper functions"
   ]
  },
  {
   "cell_type": "code",
   "execution_count": null,
   "id": "0dbb1d82",
   "metadata": {},
   "outputs": [],
   "source": [
    "def umap_hdbscan(embeds=strategy_embeddings,\n",
    "                 n_neighbors=N_NEIGHBORS,\n",
    "                 min_dist=MIN_DIST,\n",
    "                 n_components=N_COMPONENTS,\n",
    "                 random_state=RANDOM_STATE,\n",
    "                 min_cluster_size=MIN_CLUSTER_SIZE,\n",
    "                 min_samples=MIN_SAMPLES):\n",
    "\n",
    "    umap_fin = umap.UMAP(n_neighbors=n_neighbors,\n",
    "                         min_dist=min_dist,\n",
    "                         n_components=n_components,\n",
    "                         metric='cosine',\n",
    "                         random_state=random_state).fit(embeds)\n",
    "                         # gives majority of cluster solutions of 5.000 different UMAP seeds\n",
    "\n",
    "    umap_embed_fin = umap_fin.transform(embeds)\n",
    "\n",
    "    hdbscan_fin = hdbscan.HDBSCAN(min_cluster_size=min_cluster_size,\n",
    "                                  min_samples=min_samples,\n",
    "                                  metric='euclidean')\n",
    "\n",
    "    hdbscan_fin.fit(umap_embed_fin)\n",
    "    \n",
    "    return hdbscan_fin\n",
    "\n",
    "\n",
    "# produce intrusion task survey\n",
    "def sentence_intrusion_survey(hdbscan, k=4, items=[], random_state=15):\n",
    "    \"\"\" draws pre-calculated number of intrusion items\n",
    "        3 sentences of each item belong to the same cluster and 1 (the intruder) belongs to a different cluster\n",
    "        intrusion task items and answers are shuffled and stored in a txt file\"\"\"\n",
    "\n",
    "    if os.path.exists('intrusion/survey/survey.txt'):\n",
    "        os.remove('intrusion/survey/survey.txt')\n",
    "\n",
    "    if os.path.exists('intrusion/survey_solution.txt'):\n",
    "        os.remove('intrusion/survey_solution.txt')\n",
    "    \n",
    "    solutions = []\n",
    "    tasks = []\n",
    "    random.seed(random_state)\n",
    "    \n",
    "    for cluster in range(max(hdbscan.labels_) + 1):\n",
    "            \n",
    "        cluster_sentences = [i for i in np.delete(strategies, np.where(\n",
    "                              hdbscan.labels_ != cluster), axis=0)]\n",
    "        sentences = random.sample(cluster_sentences, k=(k-1)*items[cluster])\n",
    "        \n",
    "        intruder_sentences = [i for i in np.delete(strategies,\n",
    "                                            list(np.where(hdbscan.labels_ == cluster)[0]) + list(np.where(hdbscan.labels_ == -1)[0]),\n",
    "                                            axis=0)]\n",
    "        intruders = random.sample(intruder_sentences, k=items[cluster])\n",
    "        \n",
    "        for x, y in enumerate(np.arange(k-2, len(sentences), k-1)):\n",
    "            task = sentences[y-(k-2):y+1]\n",
    "            task.append(intruders[x])\n",
    "            random.shuffle(task)\n",
    "            solutions.append((cluster, task.index(intruders[x])))\n",
    "            tasks.append(task)\n",
    "    \n",
    "    shuffle_temp = list(zip(tasks, solutions))\n",
    "    random.shuffle(shuffle_temp)\n",
    "    tasks, solutions = zip(*shuffle_temp)\n",
    "    \n",
    "    with open('intrusion/survey.txt', 'a') as f:\n",
    "        for i in range(len(tasks)):\n",
    "            f.write('\\n')\n",
    "            f.write(f'ITEM {i+1}')\n",
    "            for j in range(k):\n",
    "                f.write('\\n')\n",
    "                f.write(tasks[i][j])\n",
    "            f.write('\\n')\n",
    "        \n",
    "    with open('intrusion/survey_solution.txt', 'a') as f:\n",
    "        f.write('Item, Cluster, Solution')\n",
    "        f.write('\\n')\n",
    "        for z in range(len(solutions)):\n",
    "            f.write(f'{z+1}, {solutions[z][0]}, {solutions[z][1]}')\n",
    "            f.write('\\n')"
   ]
  },
  {
   "cell_type": "markdown",
   "id": "9bc6bd63",
   "metadata": {},
   "source": [
    "### Recreate final solution"
   ]
  },
  {
   "cell_type": "code",
   "execution_count": null,
   "id": "2b1a7e4c",
   "metadata": {},
   "outputs": [],
   "source": [
    "hdbscan_fin = umap_hdbscan(embeds=strategy_embeddings)\n",
    "# cross-check number of clusters (40) & unclustered points\n",
    "print(f'Number of clusters: {max(hdbscan_fin.labels_ + 1)}')\n",
    "print(f'Number of unclustered points: {list(hdbscan_fin.labels_).count(-1)}')"
   ]
  },
  {
   "cell_type": "markdown",
   "id": "8690e60a",
   "metadata": {},
   "source": [
    "### Draw intrusion survey items"
   ]
  },
  {
   "cell_type": "code",
   "execution_count": null,
   "id": "d2c199be",
   "metadata": {},
   "outputs": [],
   "source": [
    "# evaluate aproxx./at least 30% of sentences per cluster\n",
    "items_per_cluster = [int(3 * np.ceil(list(hdbscan_fin.labels_).count(x) * 0.3 / 3) / 3\n",
    "                        ) for x in range(max(hdbscan_fin.labels_) + 1)]\n",
    "sentence_intrusion_survey(hdbscan_fin, items=items_per_cluster)"
   ]
  },
  {
   "cell_type": "code",
   "execution_count": null,
   "id": "5e530acc-149f-4aa3-bfea-9fd1867aa13e",
   "metadata": {},
   "outputs": [],
   "source": []
  }
 ],
 "metadata": {
  "kernelspec": {
   "display_name": "Python 3 (ipykernel)",
   "language": "python",
   "name": "python3"
  },
  "language_info": {
   "codemirror_mode": {
    "name": "ipython",
    "version": 3
   },
   "file_extension": ".py",
   "mimetype": "text/x-python",
   "name": "python",
   "nbconvert_exporter": "python",
   "pygments_lexer": "ipython3",
   "version": "3.9.12"
  }
 },
 "nbformat": 4,
 "nbformat_minor": 5
}
